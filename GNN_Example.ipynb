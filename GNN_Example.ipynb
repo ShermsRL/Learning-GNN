{
  "nbformat": 4,
  "nbformat_minor": 0,
  "metadata": {
    "colab": {
      "provenance": []
    },
    "kernelspec": {
      "name": "python3",
      "display_name": "Python 3"
    },
    "language_info": {
      "name": "python"
    }
  },
  "cells": [
    {
      "cell_type": "code",
      "source": [
        "import os\n",
        "import torch\n",
        "os.environ['TORCH'] = torch.__version__\n",
        "print(torch.__version__)\n",
        "\n",
        "!pip install -q torch-scatter -f https://data.pyg.org/whl/torch-${TORCH}.html\n",
        "!pip install -q torch-sparse -f https://data.pyg.org/whl/torch-${TORCH}.html\n",
        "!pip install -q git+https://github.com/pyg-team/pytorch_geometric.git"
      ],
      "metadata": {
        "id": "R2jgD72wEyva",
        "outputId": "b526a0c5-6f08-4680-82aa-a56ca48584ba",
        "colab": {
          "base_uri": "https://localhost:8080/"
        }
      },
      "execution_count": 2,
      "outputs": [
        {
          "output_type": "stream",
          "name": "stdout",
          "text": [
            "2.1.0+cu118\n",
            "\u001b[2K     \u001b[90m━━━━━━━━━━━━━━━━━━━━━━━━━━━━━━━━━━━━━━━━\u001b[0m \u001b[32m10.2/10.2 MB\u001b[0m \u001b[31m55.8 MB/s\u001b[0m eta \u001b[36m0:00:00\u001b[0m\n",
            "\u001b[2K     \u001b[90m━━━━━━━━━━━━━━━━━━━━━━━━━━━━━━━━━━━━━━━━\u001b[0m \u001b[32m4.9/4.9 MB\u001b[0m \u001b[31m35.7 MB/s\u001b[0m eta \u001b[36m0:00:00\u001b[0m\n",
            "\u001b[?25h  Installing build dependencies ... \u001b[?25l\u001b[?25hdone\n",
            "  Getting requirements to build wheel ... \u001b[?25l\u001b[?25hdone\n",
            "  Preparing metadata (pyproject.toml) ... \u001b[?25l\u001b[?25hdone\n",
            "  Building wheel for torch_geometric (pyproject.toml) ... \u001b[?25l\u001b[?25hdone\n"
          ]
        }
      ]
    },
    {
      "cell_type": "code",
      "source": [
        "import torch_geometric\n",
        "from torch_geometric.datasets import Planetoid"
      ],
      "metadata": {
        "id": "foDesrjX-Xy2"
      },
      "execution_count": 3,
      "outputs": []
    },
    {
      "cell_type": "markdown",
      "source": [
        "#Introduction"
      ],
      "metadata": {
        "id": "nJJH-yi-ZTcJ"
      }
    },
    {
      "cell_type": "markdown",
      "source": [
        "#Load the dataset"
      ],
      "metadata": {
        "id": "8u0RouhxEoKb"
      }
    },
    {
      "cell_type": "code",
      "source": [
        "dataset = Planetoid(root=\"tutorial1\", name= \"Cora\")"
      ],
      "metadata": {
        "id": "7UUijX4lEmiR",
        "outputId": "b866e1ea-7426-4d2a-9071-0f0c69852165",
        "colab": {
          "base_uri": "https://localhost:8080/"
        }
      },
      "execution_count": 4,
      "outputs": [
        {
          "output_type": "stream",
          "name": "stderr",
          "text": [
            "Downloading https://github.com/kimiyoung/planetoid/raw/master/data/ind.cora.x\n",
            "Downloading https://github.com/kimiyoung/planetoid/raw/master/data/ind.cora.tx\n",
            "Downloading https://github.com/kimiyoung/planetoid/raw/master/data/ind.cora.allx\n",
            "Downloading https://github.com/kimiyoung/planetoid/raw/master/data/ind.cora.y\n",
            "Downloading https://github.com/kimiyoung/planetoid/raw/master/data/ind.cora.ty\n",
            "Downloading https://github.com/kimiyoung/planetoid/raw/master/data/ind.cora.ally\n",
            "Downloading https://github.com/kimiyoung/planetoid/raw/master/data/ind.cora.graph\n",
            "Downloading https://github.com/kimiyoung/planetoid/raw/master/data/ind.cora.test.index\n",
            "Processing...\n",
            "Done!\n"
          ]
        }
      ]
    },
    {
      "cell_type": "markdown",
      "source": [
        "Dataset properties"
      ],
      "metadata": {
        "id": "9Nzd0YLdFeu3"
      }
    },
    {
      "cell_type": "code",
      "source": [
        "print(dataset)\n",
        "print(f\"Number of graphs:\\t\\t {len(dataset)}\")\n",
        "print(f\"Number of classes:\\t\\t {dataset.num_classes}\")\n",
        "print(f\"Number of node features:\\t {dataset.num_node_features}\")\n",
        "print(f\"Number of edge features: \\t {dataset.num_edge_features}\")"
      ],
      "metadata": {
        "id": "0xYs1UTTFQ5f",
        "outputId": "da0d39ca-9dd8-4ada-d972-952d3d3337de",
        "colab": {
          "base_uri": "https://localhost:8080/"
        }
      },
      "execution_count": 6,
      "outputs": [
        {
          "output_type": "stream",
          "name": "stdout",
          "text": [
            "Cora()\n",
            "Number of graphs:\t\t 1\n",
            "Number of classes:\t\t 7\n",
            "Number of node features:\t 1433\n",
            "Number of edge features: \t 0\n"
          ]
        }
      ]
    },
    {
      "cell_type": "markdown",
      "source": [
        "Dataset shapes"
      ],
      "metadata": {
        "id": "bfULfOV7GRem"
      }
    },
    {
      "cell_type": "code",
      "source": [
        "print(dataset.data)"
      ],
      "metadata": {
        "id": "PWWdapAoGBOh",
        "outputId": "4984f6a8-45ee-4864-a2e3-c0f08df0da8b",
        "colab": {
          "base_uri": "https://localhost:8080/"
        }
      },
      "execution_count": 7,
      "outputs": [
        {
          "output_type": "stream",
          "name": "stdout",
          "text": [
            "Data(x=[2708, 1433], edge_index=[2, 10556], y=[2708], train_mask=[2708], val_mask=[2708], test_mask=[2708])\n"
          ]
        },
        {
          "output_type": "stream",
          "name": "stderr",
          "text": [
            "/usr/local/lib/python3.10/dist-packages/torch_geometric/data/in_memory_dataset.py:284: UserWarning: It is not recommended to directly access the internal storage format `data` of an 'InMemoryDataset'. If you are absolutely certain what you are doing, access the internal storage via `InMemoryDataset._data` instead to suppress this warning. Alternatively, you can access stacked individual attributes of every graph via `dataset.{attr_name}`.\n",
            "  warnings.warn(msg)\n"
          ]
        }
      ]
    },
    {
      "cell_type": "code",
      "source": [
        "#shape of 2 multiplied by 10556\n",
        "#node 0 goes into 633, 1862, 2582...\n",
        "print(f\"edge_index:\\t\\t {dataset.data.edge_index.shape}\")\n",
        "print(dataset.data.edge_index)\n",
        "print(\"\\n\")\n",
        "\n",
        "#1-d tensor, boolean values that indicate which set is on training,\n",
        "#validation or test\n",
        "print(f\"train_mask:\\t\\t {dataset.data.train_mask.shape}\")\n",
        "print(dataset.data.train_mask)\n",
        "print(\"\\n\")\n",
        "\n",
        "#2708nodes, each node containing 1433 features\n",
        "print(f\"x:\\t\\t {dataset.data.x.shape}\")\n",
        "print(dataset.data.x)\n",
        "print(\"\\n\")\n",
        "\n",
        "#node labelling\n",
        "print(f\"y:\\t\\t {dataset.data.y.shape}\")\n",
        "print(dataset.data.y)"
      ],
      "metadata": {
        "id": "0_qdEeK-GZ6b",
        "outputId": "4c171126-c85a-4d2f-d736-e66cd47464b2",
        "colab": {
          "base_uri": "https://localhost:8080/"
        }
      },
      "execution_count": 9,
      "outputs": [
        {
          "output_type": "stream",
          "name": "stdout",
          "text": [
            "edge_index:\t\t torch.Size([2, 10556])\n",
            "tensor([[   0,    0,    0,  ..., 2707, 2707, 2707],\n",
            "        [ 633, 1862, 2582,  ...,  598, 1473, 2706]])\n",
            "\n",
            "\n",
            "train_mask:\t\t torch.Size([2708])\n",
            "tensor([ True,  True,  True,  ..., False, False, False])\n",
            "\n",
            "\n",
            "x:\t\t torch.Size([2708, 1433])\n",
            "tensor([[0., 0., 0.,  ..., 0., 0., 0.],\n",
            "        [0., 0., 0.,  ..., 0., 0., 0.],\n",
            "        [0., 0., 0.,  ..., 0., 0., 0.],\n",
            "        ...,\n",
            "        [0., 0., 0.,  ..., 0., 0., 0.],\n",
            "        [0., 0., 0.,  ..., 0., 0., 0.],\n",
            "        [0., 0., 0.,  ..., 0., 0., 0.]])\n",
            "\n",
            "\n",
            "y:\t\t torch.Size([2708])\n",
            "tensor([3, 4, 4,  ..., 3, 3, 3])\n"
          ]
        }
      ]
    },
    {
      "cell_type": "code",
      "source": [
        "import os.path as osp\n",
        "\n",
        "import torch.nn.functional as F\n",
        "from torch_geometric.nn import SAGEConv"
      ],
      "metadata": {
        "id": "KHgwSx3VHKaS"
      },
      "execution_count": 10,
      "outputs": []
    },
    {
      "cell_type": "code",
      "source": [
        "data = dataset[0]"
      ],
      "metadata": {
        "id": "ijv3gSACIeOc"
      },
      "execution_count": 12,
      "outputs": []
    },
    {
      "cell_type": "markdown",
      "source": [
        "Defining the neural network"
      ],
      "metadata": {
        "id": "_ZWteJvmIsMa"
      }
    },
    {
      "cell_type": "code",
      "source": [
        "class Net(torch.nn.Module):\n",
        "  def __init__(self):\n",
        "    super(Net, self).__init__()\n",
        "\n",
        "    self.conv = SAGEConv(dataset.num_features,\n",
        "                         dataset.num_classes,\n",
        "                         aggr=\"max\") # specifying the aggregation\n",
        "\n",
        "  def forward(self):\n",
        "    x = self.conv(data.x, data.edge_index)\n",
        "    return F.log_softmax(x, dim=1)"
      ],
      "metadata": {
        "id": "X8Xc3zvIIhBq"
      },
      "execution_count": 22,
      "outputs": []
    },
    {
      "cell_type": "code",
      "source": [
        "#to put model on cpu or gpu\n",
        "device = torch.device(\"cuda\" if torch.cuda.is_available() else \"cpu\")\n",
        "\n",
        "model, data = Net().to(device), data.to(device)\n",
        "optimizer = torch.optim.Adam(model.parameters(), lr=0.01, weight_decay=5e-4)"
      ],
      "metadata": {
        "id": "cXtqX961JG3u"
      },
      "execution_count": 23,
      "outputs": []
    },
    {
      "cell_type": "code",
      "source": [
        "def train():\n",
        "  model.train()\n",
        "  optimizer.zero_grad()\n",
        "  F.nll_loss(model()[data.train_mask], data.y[data.train_mask]).backward()\n",
        "  optimizer.step()"
      ],
      "metadata": {
        "id": "uyBHn7AHKP58"
      },
      "execution_count": 24,
      "outputs": []
    },
    {
      "cell_type": "code",
      "source": [
        "def test():\n",
        "  model.eval()\n",
        "  logits, accs = model(), []\n",
        "  for _, mask in data(\"train_mask\", \"val_mask\", \"test_mask\"):\n",
        "    pred = logits[mask].max(1)[1]\n",
        "    acc = pred.eq(data.y[mask]).sum().item()/ mask.sum().item()\n",
        "    accs.append(acc)\n",
        "  return accs"
      ],
      "metadata": {
        "id": "ZAsOzbtgK2Ge"
      },
      "execution_count": 25,
      "outputs": []
    },
    {
      "cell_type": "code",
      "source": [
        "best_val_acc = test_acc = 0\n",
        "for epoch in range(1, 100):\n",
        "  train()\n",
        "  _, val_acc, tmp_test_acc = test()\n",
        "  if val_acc > best_val_acc:\n",
        "    best_val_acc = val_acc\n",
        "    test_acc = tmp_test_acc\n",
        "  log = \"Epoch: {:03d}, Val: {:.4f}, Test: {:.4f}\"\n",
        "\n",
        "  if epoch % 10 == 0:\n",
        "    print(log.format(epoch, best_val_acc, test_acc))"
      ],
      "metadata": {
        "id": "wNaFr0yJLUPp",
        "outputId": "2a3e126a-61ab-4e28-be66-8de4bf9ff7d8",
        "colab": {
          "base_uri": "https://localhost:8080/"
        }
      },
      "execution_count": 26,
      "outputs": [
        {
          "output_type": "stream",
          "name": "stdout",
          "text": [
            "Epoch: 010, Val: 0.7280, Test: 0.7190\n",
            "Epoch: 020, Val: 0.7280, Test: 0.7190\n",
            "Epoch: 030, Val: 0.7280, Test: 0.7190\n",
            "Epoch: 040, Val: 0.7280, Test: 0.7190\n",
            "Epoch: 050, Val: 0.7280, Test: 0.7190\n",
            "Epoch: 060, Val: 0.7280, Test: 0.7190\n",
            "Epoch: 070, Val: 0.7280, Test: 0.7190\n",
            "Epoch: 080, Val: 0.7280, Test: 0.7190\n",
            "Epoch: 090, Val: 0.7280, Test: 0.7190\n"
          ]
        }
      ]
    },
    {
      "cell_type": "code",
      "source": [],
      "metadata": {
        "id": "hLhNtymeMDpv"
      },
      "execution_count": null,
      "outputs": []
    }
  ]
}